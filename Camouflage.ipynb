{
  "nbformat": 4,
  "nbformat_minor": 0,
  "metadata": {
    "colab": {
      "name": "camouflage",
      "version": "0.3.2",
      "provenance": [],
      "collapsed_sections": []
    },
    "kernelspec": {
      "name": "python3",
      "display_name": "Python 3"
    },
    "accelerator": "GPU"
  },
  "cells": [
    {
      "cell_type": "code",
      "metadata": {
        "id": "7zE4VEQgP8VP",
        "colab_type": "code",
        "colab": {}
      },
      "source": [
        "import numpy as np\n",
        "import pandas as pd\n",
        "import os\n",
        "from random import randint, getrandbits, shuffle\n",
        "import matplotlib.pyplot as plt\n",
        "import json"
      ],
      "execution_count": 0,
      "outputs": []
    },
    {
      "cell_type": "code",
      "metadata": {
        "id": "Iyj4-6U-QAx2",
        "colab_type": "code",
        "colab": {}
      },
      "source": [
        "from PIL import Image, ImageDraw, ImageFilter"
      ],
      "execution_count": 0,
      "outputs": []
    },
    {
      "cell_type": "code",
      "metadata": {
        "id": "77BC_NBHQC7x",
        "colab_type": "code",
        "colab": {}
      },
      "source": [
        "np.random.seed(42)"
      ],
      "execution_count": 0,
      "outputs": []
    },
    {
      "cell_type": "code",
      "metadata": {
        "id": "Ygyn1SVAQEO6",
        "colab_type": "code",
        "outputId": "e1e05d32-5b24-4066-8289-3a9c5c148e46",
        "colab": {
          "base_uri": "https://localhost:8080/",
          "height": 36
        }
      },
      "source": [
        "from keras.models import Sequential, Model\n",
        "from keras.layers import TimeDistributed, Dense\n",
        "from keras.layers import LSTM, Conv2D, MaxPooling2D, BatchNormalization, CuDNNLSTM, Conv3D, MaxPooling3D\n",
        "from keras.layers import Dropout, Flatten, TimeDistributed, ConvLSTM2D\n",
        "from sklearn.preprocessing import MinMaxScaler\n",
        "from sklearn.metrics import mean_squared_error\n",
        "from sklearn.model_selection import train_test_split\n",
        "from keras.optimizers import Adam, Adadelta\n",
        "from keras.preprocessing.image import ImageDataGenerator, array_to_img, img_to_array, load_img\n",
        "from keras import backend as K \n",
        "from keras.callbacks import EarlyStopping\n",
        "from keras.utils import to_categorical\n",
        "import tensorflow as tf\n",
        "from keras.regularizers import l2"
      ],
      "execution_count": 0,
      "outputs": [
        {
          "output_type": "stream",
          "text": [
            "Using TensorFlow backend.\n"
          ],
          "name": "stderr"
        }
      ]
    },
    {
      "cell_type": "code",
      "metadata": {
        "id": "pdpH6ubmSXjo",
        "colab_type": "code",
        "colab": {}
      },
      "source": [
        "def add_noise(img):\n",
        "  size = (95, 95)\n",
        "  im = Image.new('RGB', size)\n",
        "  def ran():\n",
        "    return os.urandom(95*95)\n",
        "  pixels = zip(ran(), ran(), ran())\n",
        "  im.putdata(list(pixels))\n",
        "  im = im.convert(\"L\")\n",
        "  \n",
        "  cam = Image.blend(img, im, 0.8)\n",
        "  return cam"
      ],
      "execution_count": 0,
      "outputs": []
    },
    {
      "cell_type": "code",
      "metadata": {
        "id": "Icv3VW_CuYDg",
        "colab_type": "code",
        "colab": {}
      },
      "source": [
        "def create_hoz_vec():\n",
        "  if bool(getrandbits(1)):\n",
        "    color1 = (0, 0, 0)\n",
        "    color0 = (255, 255, 255)\n",
        "  else:\n",
        "    color1 = (255, 255, 255)\n",
        "    color0 = (0, 0, 0)\n",
        "    \n",
        "  w = randint(1, 10) \n",
        "  pos = randint(-20, 20) \n",
        "  \n",
        "  if bool(getrandbits(1)):\n",
        "    # horizontal\n",
        "    coords = (0, 45+pos, 95, 45+pos)\n",
        "    img = Image.new('RGB', (95, 95), color = color0)\n",
        "    draw = ImageDraw.Draw(img)\n",
        "    draw.line(coords, fill=color1, width=w)\n",
        "    y = 1\n",
        "  else:\n",
        "    # vertical\n",
        "    coords = (45+pos, 0, 45+pos, 95)\n",
        "    img = Image.new('RGB', (95, 95), color = color0)\n",
        "    draw = ImageDraw.Draw(img)\n",
        "    draw.line(coords, fill=color1, width=w)\n",
        "    y = 0\n",
        "    \n",
        "  return img.convert(\"L\"), y"
      ],
      "execution_count": 0,
      "outputs": []
    },
    {
      "cell_type": "code",
      "metadata": {
        "id": "V2vMRDdRV-t0",
        "colab_type": "code",
        "colab": {}
      },
      "source": [
        "def create_circle():\n",
        "  if bool(getrandbits(1)):\n",
        "    color1 = (0, 0, 0)\n",
        "    color0 = (255, 255, 255)\n",
        "  else:\n",
        "    color1 = (255, 255, 255)\n",
        "    color0 = (0, 0, 0)\n",
        "  img = Image.new('RGB', (95, 95), color = color0)\n",
        "  draw = ImageDraw.Draw(img)\n",
        "  \n",
        "  ran = randint(1, 44)\n",
        "  \n",
        "  draw.ellipse((ran, ran, 95 - ran, 95 - ran), fill = color1)\n",
        "  \n",
        "  return img.convert(\"L\")"
      ],
      "execution_count": 0,
      "outputs": []
    },
    {
      "cell_type": "code",
      "metadata": {
        "id": "bfKCL0gPWv5k",
        "colab_type": "code",
        "colab": {}
      },
      "source": [
        "def create_ring():\n",
        "  if bool(getrandbits(1)):\n",
        "    color1 = (0, 0, 0)\n",
        "    color0 = (255, 255, 255)\n",
        "  else:\n",
        "    color1 = (255, 255, 255)\n",
        "    color0 = (0, 0, 0)\n",
        "  img = Image.new('RGB', (95, 95), color = color0)\n",
        "  draw = ImageDraw.Draw(img)\n",
        "  \n",
        "  ran = randint(1, 44)\n",
        "  thick = randint(1, 45-ran)\n",
        "  \n",
        "  draw.ellipse((ran - thick, ran - thick, 95 - ran + thick, 95 - ran + thick), fill=color1)\n",
        "  draw.ellipse((ran, ran, 95 - ran, 95 - ran), fill = color0)\n",
        "  \n",
        "  return img.convert(\"L\")  "
      ],
      "execution_count": 0,
      "outputs": []
    },
    {
      "cell_type": "code",
      "metadata": {
        "id": "rY68LJ3oYiC9",
        "colab_type": "code",
        "colab": {}
      },
      "source": [
        "def create_db(num=1000, camouflage=False):\n",
        "  imgs = []\n",
        "  y = []\n",
        "  \n",
        "  for n in range(0, num):\n",
        "    if bool(getrandbits(1)):\n",
        "      # ring\n",
        "      img = create_ring()\n",
        "      y.append(1)\n",
        "    else:\n",
        "      # circle\n",
        "      img = create_circle()\n",
        "      y.append(0)\n",
        "      \n",
        "    if camouflage:\n",
        "      img = add_noise(img)\n",
        "    imgs.append(img_to_array(img))\n",
        "    \n",
        "  return imgs, y"
      ],
      "execution_count": 0,
      "outputs": []
    },
    {
      "cell_type": "code",
      "metadata": {
        "id": "rHaQo2f3vlFr",
        "colab_type": "code",
        "colab": {}
      },
      "source": [
        "def create_db_hoz_vec(num=1000, camouflage=False):\n",
        "  imgs = []\n",
        "  y = []\n",
        "  \n",
        "  for n in range(0, num):\n",
        "    img, lab = create_hoz_vec()\n",
        "    if camouflage:\n",
        "      img = add_noise(img)\n",
        "    imgs.append(img_to_array(img))\n",
        "    y.append(lab)\n",
        "  \n",
        "  return imgs, y"
      ],
      "execution_count": 0,
      "outputs": []
    },
    {
      "cell_type": "code",
      "metadata": {
        "id": "-XSftxhsZSP-",
        "colab_type": "code",
        "colab": {}
      },
      "source": [
        "# X, y = create_db(20)\n",
        "\n",
        "X, y = create_db_hoz_vec(20, camouflage=True)"
      ],
      "execution_count": 0,
      "outputs": []
    },
    {
      "cell_type": "code",
      "metadata": {
        "id": "Vf0UM9RdZXlv",
        "colab_type": "code",
        "outputId": "02f3f1d4-5aad-498b-f2dc-a4a97410b85f",
        "colab": {
          "base_uri": "https://localhost:8080/",
          "height": 112
        }
      },
      "source": [
        "array_to_img(X[1])"
      ],
      "execution_count": 0,
      "outputs": [
        {
          "output_type": "execute_result",
          "data": {
            "image/png": "[encoded data removed]",
            "text/plain": [
              "<PIL.Image.Image image mode=L size=95x95 at 0x7F7975280080>"
            ]
          },
          "metadata": {
            "tags": []
          },
          "execution_count": 17
        }
      ]
    },
    {
      "cell_type": "code",
      "metadata": {
        "id": "JjTFgxdsWMdO",
        "colab_type": "code",
        "colab": {}
      },
      "source": [
        "img = create_ring()"
      ],
      "execution_count": 0,
      "outputs": []
    },
    {
      "cell_type": "code",
      "metadata": {
        "id": "b_YBOoifZRqH",
        "colab_type": "code",
        "colab": {}
      },
      "source": [
        "def cnn(opt=False, drop=False):\n",
        "  if not opt:\n",
        "    opt = Adam(lr=0.0003, beta_1=0.9, beta_2=0.999, epsilon=1e-7)\n",
        "    \n",
        "  model = Sequential()\n",
        "  model.add(Conv2D(6, kernel_size=(3, 3), activation='relu', data_format='channels_last', input_shape=(95, 95, 1,)))\n",
        "  model.add(MaxPooling2D(pool_size=(2, 2), strides=(2, 2)))\n",
        "  model.add(Conv2D(8, kernel_size=(3, 3), activation='relu', data_format='channels_last'))\n",
        "  model.add(MaxPooling2D(pool_size=(2, 2), strides=(2, 2)))\n",
        "  model.add(Conv2D(12, kernel_size=(3, 3), activation='relu', data_format='channels_last'))\n",
        "  model.add(MaxPooling2D(pool_size=(2, 2), strides=(2, 2)))\n",
        "  model.add(Flatten())\n",
        "  \n",
        "  model.add(Dense(1024, activation='relu', kernel_initializer='glorot_uniform'))\n",
        "  if drop:\n",
        "    model.add(Dropout(0.4))\n",
        "    \n",
        "  model.add(Dense(1, activation='sigmoid', kernel_initializer='glorot_uniform'))\n",
        "  model.compile(loss='binary_crossentropy', \n",
        "                optimizer=opt,\n",
        "                metrics=['accuracy'])\n",
        "  \n",
        "  return model"
      ],
      "execution_count": 0,
      "outputs": []
    },
    {
      "cell_type": "markdown",
      "metadata": {
        "id": "iTiiqas5Z14s",
        "colab_type": "text"
      },
      "source": [
        "# train with circles and rings w/out camouflage"
      ]
    },
    {
      "cell_type": "code",
      "metadata": {
        "id": "5OmFtlgoakV0",
        "colab_type": "code",
        "colab": {}
      },
      "source": [
        "imgs, labels = create_db()\n",
        "imgs = np.array(imgs)/255\n",
        "X_train, X_test, y_train, y_test = train_test_split(imgs, labels, test_size=0.1, random_state=42)\n",
        "X_train, X_valid, y_train, y_valid = train_test_split(X_train, y_train, test_size=0.1, random_state=42)"
      ],
      "execution_count": 0,
      "outputs": []
    },
    {
      "cell_type": "code",
      "metadata": {
        "id": "-0nhHSpdaj0N",
        "colab_type": "code",
        "outputId": "eb6141a6-770a-4fe7-ee0c-5a175f618d24",
        "colab": {
          "base_uri": "https://localhost:8080/",
          "height": 1000
        }
      },
      "source": [
        "model = cnn(drop=True)\n",
        "\n",
        "model.summary()\n",
        "\n",
        "h = model.fit(np.array(X_train), np.array(y_train), epochs=10, validation_data=(np.array(X_valid), np.array(y_valid)))"
      ],
      "execution_count": 0,
      "outputs": [
        {
          "output_type": "stream",
          "text": [
            "WARNING: Logging before flag parsing goes to stderr.\n",
            "W0901 16:38:26.373595 140062005540736 deprecation_wrapper.py:119] From /usr/local/lib/python3.6/dist-packages/keras/backend/tensorflow_backend.py:66: The name tf.get_default_graph is deprecated. Please use tf.compat.v1.get_default_graph instead.\n",
            "\n",
            "W0901 16:38:26.377863 140062005540736 deprecation_wrapper.py:119] From /usr/local/lib/python3.6/dist-packages/keras/backend/tensorflow_backend.py:541: The name tf.placeholder is deprecated. Please use tf.compat.v1.placeholder instead.\n",
            "\n",
            "W0901 16:38:26.380654 140062005540736 deprecation_wrapper.py:119] From /usr/local/lib/python3.6/dist-packages/keras/backend/tensorflow_backend.py:4432: The name tf.random_uniform is deprecated. Please use tf.random.uniform instead.\n",
            "\n",
            "W0901 16:38:26.418297 140062005540736 deprecation_wrapper.py:119] From /usr/local/lib/python3.6/dist-packages/keras/backend/tensorflow_backend.py:4267: The name tf.nn.max_pool is deprecated. Please use tf.nn.max_pool2d instead.\n",
            "\n",
            "W0901 16:38:26.495181 140062005540736 deprecation_wrapper.py:119] From /usr/local/lib/python3.6/dist-packages/keras/backend/tensorflow_backend.py:148: The name tf.placeholder_with_default is deprecated. Please use tf.compat.v1.placeholder_with_default instead.\n",
            "\n",
            "W0901 16:38:26.504621 140062005540736 deprecation.py:506] From /usr/local/lib/python3.6/dist-packages/keras/backend/tensorflow_backend.py:3733: calling dropout (from tensorflow.python.ops.nn_ops) with keep_prob is deprecated and will be removed in a future version.\n",
            "Instructions for updating:\n",
            "Please use `rate` instead of `keep_prob`. Rate should be set to `rate = 1 - keep_prob`.\n",
            "W0901 16:38:26.537375 140062005540736 deprecation_wrapper.py:119] From /usr/local/lib/python3.6/dist-packages/keras/optimizers.py:793: The name tf.train.Optimizer is deprecated. Please use tf.compat.v1.train.Optimizer instead.\n",
            "\n",
            "W0901 16:38:26.545059 140062005540736 deprecation_wrapper.py:119] From /usr/local/lib/python3.6/dist-packages/keras/backend/tensorflow_backend.py:3657: The name tf.log is deprecated. Please use tf.math.log instead.\n",
            "\n",
            "W0901 16:38:26.550830 140062005540736 deprecation.py:323] From /usr/local/lib/python3.6/dist-packages/tensorflow/python/ops/nn_impl.py:180: add_dispatch_support.<locals>.wrapper (from tensorflow.python.ops.array_ops) is deprecated and will be removed in a future version.\n",
            "Instructions for updating:\n",
            "Use tf.where in 2.0, which has the same broadcast rule as np.where\n"
          ],
          "name": "stderr"
        },
        {
          "output_type": "stream",
          "text": [
            "Model: \"sequential_1\"\n",
            "_________________________________________________________________\n",
            "Layer (type)                 Output Shape              Param #   \n",
            "=================================================================\n",
            "conv2d_1 (Conv2D)            (None, 93, 93, 6)         60        \n",
            "_________________________________________________________________\n",
            "max_pooling2d_1 (MaxPooling2 (None, 46, 46, 6)         0         \n",
            "_________________________________________________________________\n",
            "conv2d_2 (Conv2D)            (None, 44, 44, 8)         440       \n",
            "_________________________________________________________________\n",
            "max_pooling2d_2 (MaxPooling2 (None, 22, 22, 8)         0         \n",
            "_________________________________________________________________\n",
            "conv2d_3 (Conv2D)            (None, 20, 20, 12)        876       \n",
            "_________________________________________________________________\n",
            "max_pooling2d_3 (MaxPooling2 (None, 10, 10, 12)        0         \n",
            "_________________________________________________________________\n",
            "flatten_1 (Flatten)          (None, 1200)              0         \n",
            "_________________________________________________________________\n",
            "dense_1 (Dense)              (None, 1024)              1229824   \n",
            "_________________________________________________________________\n",
            "dropout_1 (Dropout)          (None, 1024)              0         \n",
            "_________________________________________________________________\n",
            "dense_2 (Dense)              (None, 1)                 1025      \n",
            "=================================================================\n",
            "Total params: 1,232,225\n",
            "Trainable params: 1,232,225\n",
            "Non-trainable params: 0\n",
            "_________________________________________________________________\n",
            "Train on 810 samples, validate on 90 samples\n",
            "Epoch 1/10\n",
            "810/810 [==============================] - 9s 11ms/step - loss: 0.6644 - acc: 0.5802 - val_loss: 0.6187 - val_acc: 0.5333\n",
            "Epoch 2/10\n",
            "810/810 [==============================] - 0s 538us/step - loss: 0.5718 - acc: 0.6938 - val_loss: 0.5318 - val_acc: 0.7333\n",
            "Epoch 3/10\n",
            "810/810 [==============================] - 0s 564us/step - loss: 0.4512 - acc: 0.8210 - val_loss: 0.4376 - val_acc: 0.8222\n",
            "Epoch 4/10\n",
            "810/810 [==============================] - 0s 514us/step - loss: 0.3352 - acc: 0.8593 - val_loss: 0.2937 - val_acc: 0.9000\n",
            "Epoch 5/10\n",
            "810/810 [==============================] - 0s 496us/step - loss: 0.2717 - acc: 0.8864 - val_loss: 0.2470 - val_acc: 0.8889\n",
            "Epoch 6/10\n",
            "810/810 [==============================] - 0s 508us/step - loss: 0.2302 - acc: 0.9049 - val_loss: 0.2235 - val_acc: 0.8889\n",
            "Epoch 7/10\n",
            "810/810 [==============================] - 0s 484us/step - loss: 0.2132 - acc: 0.9025 - val_loss: 0.1903 - val_acc: 0.9000\n",
            "Epoch 8/10\n",
            "810/810 [==============================] - 0s 507us/step - loss: 0.2046 - acc: 0.9111 - val_loss: 0.2010 - val_acc: 0.9000\n",
            "Epoch 9/10\n",
            "810/810 [==============================] - 0s 481us/step - loss: 0.2148 - acc: 0.9037 - val_loss: 0.1791 - val_acc: 0.9000\n",
            "Epoch 10/10\n",
            "810/810 [==============================] - 0s 492us/step - loss: 0.1938 - acc: 0.9111 - val_loss: 0.1851 - val_acc: 0.9111\n"
          ],
          "name": "stdout"
        }
      ]
    },
    {
      "cell_type": "code",
      "metadata": {
        "id": "quGlUJ9Or7V9",
        "colab_type": "code",
        "outputId": "2600056c-dd5a-4dec-b85c-45f9946ca41e",
        "colab": {
          "base_uri": "https://localhost:8080/",
          "height": 73
        }
      },
      "source": [
        "test_loss, test_acc = model.evaluate(np.array(X_test), np.array(y_test))\n",
        "\n",
        "print('Test loss:', test_loss)\n",
        "print('Test accuracy:', test_acc)"
      ],
      "execution_count": 0,
      "outputs": [
        {
          "output_type": "stream",
          "text": [
            "100/100 [==============================] - 0s 361us/step\n",
            "Test loss: 0.22851068496704102\n",
            "Test accuracy: 0.87\n"
          ],
          "name": "stdout"
        }
      ]
    },
    {
      "cell_type": "markdown",
      "metadata": {
        "id": "Yyf5mrEBcnC7",
        "colab_type": "text"
      },
      "source": [
        "## test on camouflaged"
      ]
    },
    {
      "cell_type": "code",
      "metadata": {
        "id": "FvQbGszgb7ad",
        "colab_type": "code",
        "colab": {}
      },
      "source": [
        "cam, corr = create_db(camouflage=True)\n",
        "cam = np.array(cam)/255"
      ],
      "execution_count": 0,
      "outputs": []
    },
    {
      "cell_type": "code",
      "metadata": {
        "id": "uYAzN901cCy3",
        "colab_type": "code",
        "colab": {}
      },
      "source": [
        "preds = model.predict(np.array(cam))"
      ],
      "execution_count": 0,
      "outputs": []
    },
    {
      "cell_type": "code",
      "metadata": {
        "id": "-OdopBnIcG7h",
        "colab_type": "code",
        "outputId": "13e70e1c-a828-440a-e91d-2dc4b995b283",
        "colab": {
          "base_uri": "https://localhost:8080/",
          "height": 36
        }
      },
      "source": [
        "c = 0\n",
        "for y, p in zip(corr, preds):\n",
        "  pr = 0\n",
        "  if p > 0.5:\n",
        "    pr = 1\n",
        "  if pr == y:\n",
        "    c += 1\n",
        "print(c/len(corr))"
      ],
      "execution_count": 0,
      "outputs": [
        {
          "output_type": "stream",
          "text": [
            "0.501\n"
          ],
          "name": "stdout"
        }
      ]
    },
    {
      "cell_type": "markdown",
      "metadata": {
        "id": "kLyh1OvFcqdB",
        "colab_type": "text"
      },
      "source": [
        "## train on camouflaged on top of model"
      ]
    },
    {
      "cell_type": "code",
      "metadata": {
        "id": "d2TxFdlKcgvy",
        "colab_type": "code",
        "colab": {}
      },
      "source": [
        "cam_tr, lab_tr = create_db(camouflage=True)\n",
        "cam_tr = np.array(cam_tr)/255\n",
        "X_train, X_valid, y_train, y_valid = train_test_split(cam_tr, lab_tr, test_size=0.1, random_state=42)"
      ],
      "execution_count": 0,
      "outputs": []
    },
    {
      "cell_type": "code",
      "metadata": {
        "id": "8Nu4tj33c57s",
        "colab_type": "code",
        "outputId": "5e79a5bd-750b-4c21-f8b1-f0190fdd4fac",
        "colab": {
          "base_uri": "https://localhost:8080/",
          "height": 167
        }
      },
      "source": [
        "model.fit(np.array(X_train), np.array(y_train), epochs=3, validation_data=(np.array(X_valid), np.array(y_valid)))"
      ],
      "execution_count": 0,
      "outputs": [
        {
          "output_type": "stream",
          "text": [
            "Train on 900 samples, validate on 100 samples\n",
            "Epoch 1/3\n",
            "900/900 [==============================] - 0s 472us/step - loss: 0.8291 - acc: 0.5711 - val_loss: 0.6692 - val_acc: 0.5700\n",
            "Epoch 2/3\n",
            "900/900 [==============================] - 0s 446us/step - loss: 0.6309 - acc: 0.6633 - val_loss: 0.5990 - val_acc: 0.7900\n",
            "Epoch 3/3\n",
            "900/900 [==============================] - 0s 425us/step - loss: 0.5550 - acc: 0.7856 - val_loss: 0.4917 - val_acc: 0.8300\n"
          ],
          "name": "stdout"
        },
        {
          "output_type": "execute_result",
          "data": {
            "text/plain": [
              "<keras.callbacks.History at 0x7f626596db70>"
            ]
          },
          "metadata": {
            "tags": []
          },
          "execution_count": 19
        }
      ]
    },
    {
      "cell_type": "code",
      "metadata": {
        "id": "T0jgn1RRc-em",
        "colab_type": "code",
        "outputId": "b04a93df-0038-4c9d-fcf0-a936fe377754",
        "colab": {
          "base_uri": "https://localhost:8080/",
          "height": 129
        }
      },
      "source": [
        "model.fit(np.array(X_train), np.array(y_train), epochs=2, validation_data=(np.array(X_valid), np.array(y_valid)))"
      ],
      "execution_count": 0,
      "outputs": [
        {
          "output_type": "stream",
          "text": [
            "Train on 900 samples, validate on 100 samples\n",
            "Epoch 1/2\n",
            "900/900 [==============================] - 0s 441us/step - loss: 0.4720 - acc: 0.8178 - val_loss: 0.4061 - val_acc: 0.9100\n",
            "Epoch 2/2\n",
            "900/900 [==============================] - 0s 441us/step - loss: 0.4025 - acc: 0.8511 - val_loss: 0.3558 - val_acc: 0.9000\n"
          ],
          "name": "stdout"
        },
        {
          "output_type": "execute_result",
          "data": {
            "text/plain": [
              "<keras.callbacks.History at 0x7f625f938ac8>"
            ]
          },
          "metadata": {
            "tags": []
          },
          "execution_count": 20
        }
      ]
    },
    {
      "cell_type": "markdown",
      "metadata": {
        "id": "3V3vducjdLD-",
        "colab_type": "text"
      },
      "source": [
        "## now test again"
      ]
    },
    {
      "cell_type": "code",
      "metadata": {
        "id": "fdAHlFkOdIpY",
        "colab_type": "code",
        "colab": {}
      },
      "source": [
        "preds = model.predict(np.array(cam))"
      ],
      "execution_count": 0,
      "outputs": []
    },
    {
      "cell_type": "code",
      "metadata": {
        "id": "C5gszdA2dSOi",
        "colab_type": "code",
        "outputId": "7e0386ce-f8d9-4a67-8b15-85b04b747b0a",
        "colab": {
          "base_uri": "https://localhost:8080/",
          "height": 36
        }
      },
      "source": [
        "c = 0\n",
        "for y, p in zip(corr, preds):\n",
        "  pr = 0\n",
        "  if p > 0.5:\n",
        "    pr = 1\n",
        "  if pr == y:\n",
        "    c += 1\n",
        "print(c/len(corr))"
      ],
      "execution_count": 0,
      "outputs": [
        {
          "output_type": "stream",
          "text": [
            "0.857\n"
          ],
          "name": "stdout"
        }
      ]
    },
    {
      "cell_type": "markdown",
      "metadata": {
        "id": "zvQEC5Hgr1Kd",
        "colab_type": "text"
      },
      "source": [
        "ALSO wanna test for the clean images as well, to see if anything changed"
      ]
    },
    {
      "cell_type": "code",
      "metadata": {
        "id": "TyHVLrZyrz1X",
        "colab_type": "code",
        "outputId": "d7b079cb-81e6-454a-efb5-fc03e8b6c0a3",
        "colab": {
          "base_uri": "https://localhost:8080/",
          "height": 73
        }
      },
      "source": [
        "test_loss, test_acc = model.evaluate(np.array(X_test), np.array(y_test))\n",
        "\n",
        "print('Test loss:', test_loss)\n",
        "print('Test accuracy:', test_acc)"
      ],
      "execution_count": 0,
      "outputs": [
        {
          "output_type": "stream",
          "text": [
            "100/100 [==============================] - 0s 258us/step\n",
            "Test loss: 0.7629923705756664\n",
            "Test accuracy: 0.8\n"
          ],
          "name": "stdout"
        }
      ]
    },
    {
      "cell_type": "markdown",
      "metadata": {
        "id": "CP3akeLTvSgu",
        "colab_type": "text"
      },
      "source": [
        "## test on camouflaged horizontal and vertical"
      ]
    },
    {
      "cell_type": "code",
      "metadata": {
        "id": "XEo-tKdcvgb6",
        "colab_type": "code",
        "colab": {}
      },
      "source": [
        "hoz_cam, hoz_lab = create_db_hoz_vec(camouflage=True)\n",
        "hoz_cam = np.array(hoz_cam)/255"
      ],
      "execution_count": 0,
      "outputs": []
    },
    {
      "cell_type": "code",
      "metadata": {
        "id": "Z0cEJM0DwLnu",
        "colab_type": "code",
        "colab": {}
      },
      "source": [
        "hoz_preds = model.predict(np.array(hoz_cam))"
      ],
      "execution_count": 0,
      "outputs": []
    },
    {
      "cell_type": "code",
      "metadata": {
        "id": "HyyECTSywfQW",
        "colab_type": "code",
        "outputId": "787316db-e883-429f-da0f-c188375db950",
        "colab": {
          "base_uri": "https://localhost:8080/",
          "height": 36
        }
      },
      "source": [
        "c = 0\n",
        "for hp, l in zip(hoz_preds, hoz_lab):\n",
        "  hr = 0\n",
        "  if hp > 0.5:\n",
        "    hr = 1\n",
        "  if hr == l:\n",
        "    c += 1\n",
        "print(c/len(hoz_lab))"
      ],
      "execution_count": 0,
      "outputs": [
        {
          "output_type": "stream",
          "text": [
            "0.323\n"
          ],
          "name": "stdout"
        }
      ]
    },
    {
      "cell_type": "markdown",
      "metadata": {
        "id": "7MOszL4swuJW",
        "colab_type": "text"
      },
      "source": [
        "## Slightly train and test again"
      ]
    },
    {
      "cell_type": "markdown",
      "metadata": {
        "id": "wzTtETgnxE1I",
        "colab_type": "text"
      },
      "source": [
        "in order to simulate \"learning\" that would naturally occur in the bees, train the model with a small batch of 100 camouflaged horizontal and vertical patterns"
      ]
    },
    {
      "cell_type": "code",
      "metadata": {
        "id": "u236WRvcwtCH",
        "colab_type": "code",
        "colab": {}
      },
      "source": [
        "tr_hz, tr_lb = create_db_hoz_vec(num=100, camouflage=True)\n",
        "tr_hz = np.array(tr_hz)/255"
      ],
      "execution_count": 0,
      "outputs": []
    },
    {
      "cell_type": "code",
      "metadata": {
        "id": "vQ0NP3F-w7K6",
        "colab_type": "code",
        "outputId": "70c41c05-1aee-46c9-897f-3110e0f5eae5",
        "colab": {
          "base_uri": "https://localhost:8080/",
          "height": 148
        }
      },
      "source": [
        "model.fit(np.array(tr_hz), np.array(tr_lb), epochs=3)"
      ],
      "execution_count": 0,
      "outputs": [
        {
          "output_type": "stream",
          "text": [
            "Epoch 1/3\n",
            "100/100 [==============================] - 0s 515us/step - loss: 1.1057 - acc: 0.2500\n",
            "Epoch 2/3\n",
            "100/100 [==============================] - 0s 537us/step - loss: 0.9196 - acc: 0.2700\n",
            "Epoch 3/3\n",
            "100/100 [==============================] - 0s 539us/step - loss: 0.7860 - acc: 0.3400\n"
          ],
          "name": "stdout"
        },
        {
          "output_type": "execute_result",
          "data": {
            "text/plain": [
              "<keras.callbacks.History at 0x7f6256af3198>"
            ]
          },
          "metadata": {
            "tags": []
          },
          "execution_count": 28
        }
      ]
    },
    {
      "cell_type": "code",
      "metadata": {
        "id": "JQrORkucxBRc",
        "colab_type": "code",
        "outputId": "4c2a23ea-fe55-4ee1-90c4-ff643af513a8",
        "colab": {
          "base_uri": "https://localhost:8080/",
          "height": 111
        }
      },
      "source": [
        "model.fit(np.array(tr_hz), np.array(tr_lb), epochs=2)"
      ],
      "execution_count": 0,
      "outputs": [
        {
          "output_type": "stream",
          "text": [
            "Epoch 1/2\n",
            "100/100 [==============================] - 0s 599us/step - loss: 0.6977 - acc: 0.4700\n",
            "Epoch 2/2\n",
            "100/100 [==============================] - 0s 536us/step - loss: 0.6584 - acc: 0.6400\n"
          ],
          "name": "stdout"
        },
        {
          "output_type": "execute_result",
          "data": {
            "text/plain": [
              "<keras.callbacks.History at 0x7f6257b985f8>"
            ]
          },
          "metadata": {
            "tags": []
          },
          "execution_count": 29
        }
      ]
    },
    {
      "cell_type": "code",
      "metadata": {
        "id": "ryQdxxxvxDoW",
        "colab_type": "code",
        "colab": {}
      },
      "source": [
        "hoz_preds = model.predict(np.array(hoz_cam))"
      ],
      "execution_count": 0,
      "outputs": []
    },
    {
      "cell_type": "code",
      "metadata": {
        "id": "uDmwLWMCxPf6",
        "colab_type": "code",
        "outputId": "007bd298-65d6-4957-ff8e-577cbf1ed3fd",
        "colab": {
          "base_uri": "https://localhost:8080/",
          "height": 36
        }
      },
      "source": [
        "c = 0\n",
        "for hp, l in zip(hoz_preds, hoz_lab):\n",
        "  hr = 0\n",
        "  if hp > 0.5:\n",
        "    hr = 1\n",
        "  if hr == l:\n",
        "    c += 1\n",
        "print(c/len(hoz_lab))"
      ],
      "execution_count": 0,
      "outputs": [
        {
          "output_type": "stream",
          "text": [
            "0.575\n"
          ],
          "name": "stdout"
        }
      ]
    },
    {
      "cell_type": "markdown",
      "metadata": {
        "id": "GneRWGxpuGfA",
        "colab_type": "text"
      },
      "source": [
        "# train with camouflage for reference"
      ]
    },
    {
      "cell_type": "code",
      "metadata": {
        "id": "mxSowbZYuI4g",
        "colab_type": "code",
        "colab": {}
      },
      "source": [
        "imgs, labels = create_db(camouflage=True)\n",
        "imgs = np.array(imgs)/255\n",
        "X_train, X_test, y_train, y_test = train_test_split(imgs, labels, test_size=0.1, random_state=42)\n",
        "X_train, X_valid, y_train, y_valid = train_test_split(X_train, y_train, test_size=0.1, random_state=42)"
      ],
      "execution_count": 0,
      "outputs": []
    },
    {
      "cell_type": "code",
      "metadata": {
        "id": "2UAlEMkwuXBe",
        "colab_type": "code",
        "outputId": "62171845-76dd-4fda-b15f-5268e14b27a8",
        "colab": {
          "base_uri": "https://localhost:8080/",
          "height": 1000
        }
      },
      "source": [
        "model = cnn(drop=True)\n",
        "\n",
        "model.summary()\n",
        "\n",
        "h = model.fit(np.array(X_train), np.array(y_train), epochs=10, validation_data=(np.array(X_valid), np.array(y_valid)))"
      ],
      "execution_count": 0,
      "outputs": [
        {
          "output_type": "stream",
          "text": [
            "WARNING: Logging before flag parsing goes to stderr.\n",
            "W0831 12:49:56.602632 140517717784448 deprecation_wrapper.py:119] From /usr/local/lib/python3.6/dist-packages/keras/backend/tensorflow_backend.py:66: The name tf.get_default_graph is deprecated. Please use tf.compat.v1.get_default_graph instead.\n",
            "\n",
            "W0831 12:49:56.605166 140517717784448 deprecation_wrapper.py:119] From /usr/local/lib/python3.6/dist-packages/keras/backend/tensorflow_backend.py:541: The name tf.placeholder is deprecated. Please use tf.compat.v1.placeholder instead.\n",
            "\n",
            "W0831 12:49:56.611889 140517717784448 deprecation_wrapper.py:119] From /usr/local/lib/python3.6/dist-packages/keras/backend/tensorflow_backend.py:4432: The name tf.random_uniform is deprecated. Please use tf.random.uniform instead.\n",
            "\n",
            "W0831 12:49:56.644824 140517717784448 deprecation_wrapper.py:119] From /usr/local/lib/python3.6/dist-packages/keras/backend/tensorflow_backend.py:4267: The name tf.nn.max_pool is deprecated. Please use tf.nn.max_pool2d instead.\n",
            "\n",
            "W0831 12:49:56.703186 140517717784448 deprecation_wrapper.py:119] From /usr/local/lib/python3.6/dist-packages/keras/backend/tensorflow_backend.py:148: The name tf.placeholder_with_default is deprecated. Please use tf.compat.v1.placeholder_with_default instead.\n",
            "\n",
            "W0831 12:49:56.714235 140517717784448 deprecation.py:506] From /usr/local/lib/python3.6/dist-packages/keras/backend/tensorflow_backend.py:3733: calling dropout (from tensorflow.python.ops.nn_ops) with keep_prob is deprecated and will be removed in a future version.\n",
            "Instructions for updating:\n",
            "Please use `rate` instead of `keep_prob`. Rate should be set to `rate = 1 - keep_prob`.\n",
            "W0831 12:49:56.745805 140517717784448 deprecation_wrapper.py:119] From /usr/local/lib/python3.6/dist-packages/keras/optimizers.py:793: The name tf.train.Optimizer is deprecated. Please use tf.compat.v1.train.Optimizer instead.\n",
            "\n",
            "W0831 12:49:56.754454 140517717784448 deprecation_wrapper.py:119] From /usr/local/lib/python3.6/dist-packages/keras/backend/tensorflow_backend.py:3657: The name tf.log is deprecated. Please use tf.math.log instead.\n",
            "\n",
            "W0831 12:49:56.761213 140517717784448 deprecation.py:323] From /usr/local/lib/python3.6/dist-packages/tensorflow/python/ops/nn_impl.py:180: add_dispatch_support.<locals>.wrapper (from tensorflow.python.ops.array_ops) is deprecated and will be removed in a future version.\n",
            "Instructions for updating:\n",
            "Use tf.where in 2.0, which has the same broadcast rule as np.where\n"
          ],
          "name": "stderr"
        },
        {
          "output_type": "stream",
          "text": [
            "Model: \"sequential_1\"\n",
            "_________________________________________________________________\n",
            "Layer (type)                 Output Shape              Param #   \n",
            "=================================================================\n",
            "conv2d_1 (Conv2D)            (None, 93, 93, 6)         60        \n",
            "_________________________________________________________________\n",
            "max_pooling2d_1 (MaxPooling2 (None, 46, 46, 6)         0         \n",
            "_________________________________________________________________\n",
            "conv2d_2 (Conv2D)            (None, 44, 44, 8)         440       \n",
            "_________________________________________________________________\n",
            "max_pooling2d_2 (MaxPooling2 (None, 22, 22, 8)         0         \n",
            "_________________________________________________________________\n",
            "conv2d_3 (Conv2D)            (None, 20, 20, 12)        876       \n",
            "_________________________________________________________________\n",
            "max_pooling2d_3 (MaxPooling2 (None, 10, 10, 12)        0         \n",
            "_________________________________________________________________\n",
            "flatten_1 (Flatten)          (None, 1200)              0         \n",
            "_________________________________________________________________\n",
            "dense_1 (Dense)              (None, 1024)              1229824   \n",
            "_________________________________________________________________\n",
            "dropout_1 (Dropout)          (None, 1024)              0         \n",
            "_________________________________________________________________\n",
            "dense_2 (Dense)              (None, 1)                 1025      \n",
            "=================================================================\n",
            "Total params: 1,232,225\n",
            "Trainable params: 1,232,225\n",
            "Non-trainable params: 0\n",
            "_________________________________________________________________\n",
            "Train on 810 samples, validate on 90 samples\n",
            "Epoch 1/10\n",
            "810/810 [==============================] - 7s 8ms/step - loss: 0.6963 - acc: 0.5210 - val_loss: 0.6925 - val_acc: 0.5000\n",
            "Epoch 2/10\n",
            "810/810 [==============================] - 0s 397us/step - loss: 0.6855 - acc: 0.5407 - val_loss: 0.6930 - val_acc: 0.5333\n",
            "Epoch 3/10\n",
            "810/810 [==============================] - 0s 392us/step - loss: 0.6824 - acc: 0.5790 - val_loss: 0.6906 - val_acc: 0.5778\n",
            "Epoch 4/10\n",
            "810/810 [==============================] - 0s 398us/step - loss: 0.6716 - acc: 0.6407 - val_loss: 0.6891 - val_acc: 0.5333\n",
            "Epoch 5/10\n",
            "810/810 [==============================] - 0s 369us/step - loss: 0.6637 - acc: 0.6432 - val_loss: 0.6904 - val_acc: 0.5778\n",
            "Epoch 6/10\n",
            "810/810 [==============================] - 0s 392us/step - loss: 0.6564 - acc: 0.6123 - val_loss: 0.6973 - val_acc: 0.5222\n",
            "Epoch 7/10\n",
            "810/810 [==============================] - 0s 383us/step - loss: 0.6472 - acc: 0.6000 - val_loss: 0.7012 - val_acc: 0.5222\n",
            "Epoch 8/10\n",
            "810/810 [==============================] - 0s 369us/step - loss: 0.6338 - acc: 0.6296 - val_loss: 0.6856 - val_acc: 0.6222\n",
            "Epoch 9/10\n",
            "810/810 [==============================] - 0s 378us/step - loss: 0.6235 - acc: 0.6654 - val_loss: 0.6930 - val_acc: 0.5889\n",
            "Epoch 10/10\n",
            "810/810 [==============================] - 0s 374us/step - loss: 0.6116 - acc: 0.6790 - val_loss: 0.6987 - val_acc: 0.5778\n"
          ],
          "name": "stdout"
        }
      ]
    },
    {
      "cell_type": "code",
      "metadata": {
        "id": "qOyC1BhmuZDv",
        "colab_type": "code",
        "outputId": "975b9d3e-9300-481a-f368-7157f2f2160e",
        "colab": {
          "base_uri": "https://localhost:8080/",
          "height": 784
        }
      },
      "source": [
        "h2 = model.fit(np.array(X_train), np.array(y_train), epochs=20, validation_data=(np.array(X_valid), np.array(y_valid)))"
      ],
      "execution_count": 0,
      "outputs": [
        {
          "output_type": "stream",
          "text": [
            "Train on 810 samples, validate on 90 samples\n",
            "Epoch 1/20\n",
            "810/810 [==============================] - 0s 420us/step - loss: 0.5891 - acc: 0.7099 - val_loss: 0.6957 - val_acc: 0.4556\n",
            "Epoch 2/20\n",
            "810/810 [==============================] - 0s 398us/step - loss: 0.5690 - acc: 0.7123 - val_loss: 0.6736 - val_acc: 0.5667\n",
            "Epoch 3/20\n",
            "810/810 [==============================] - 0s 375us/step - loss: 0.5337 - acc: 0.7753 - val_loss: 0.6941 - val_acc: 0.6222\n",
            "Epoch 4/20\n",
            "810/810 [==============================] - 0s 372us/step - loss: 0.5256 - acc: 0.7519 - val_loss: 0.6549 - val_acc: 0.5556\n",
            "Epoch 5/20\n",
            "810/810 [==============================] - 0s 373us/step - loss: 0.4779 - acc: 0.7963 - val_loss: 0.6429 - val_acc: 0.6333\n",
            "Epoch 6/20\n",
            "810/810 [==============================] - 0s 364us/step - loss: 0.4527 - acc: 0.8296 - val_loss: 0.6292 - val_acc: 0.5889\n",
            "Epoch 7/20\n",
            "810/810 [==============================] - 0s 374us/step - loss: 0.4171 - acc: 0.8642 - val_loss: 0.6042 - val_acc: 0.6333\n",
            "Epoch 8/20\n",
            "810/810 [==============================] - 0s 367us/step - loss: 0.3858 - acc: 0.8691 - val_loss: 0.6507 - val_acc: 0.6444\n",
            "Epoch 9/20\n",
            "810/810 [==============================] - 0s 377us/step - loss: 0.3610 - acc: 0.8630 - val_loss: 0.5196 - val_acc: 0.6778\n",
            "Epoch 10/20\n",
            "810/810 [==============================] - 0s 369us/step - loss: 0.3105 - acc: 0.8975 - val_loss: 0.5350 - val_acc: 0.7333\n",
            "Epoch 11/20\n",
            "810/810 [==============================] - 0s 370us/step - loss: 0.3094 - acc: 0.8938 - val_loss: 0.4336 - val_acc: 0.7889\n",
            "Epoch 12/20\n",
            "810/810 [==============================] - 0s 367us/step - loss: 0.2518 - acc: 0.9259 - val_loss: 0.4257 - val_acc: 0.8000\n",
            "Epoch 13/20\n",
            "810/810 [==============================] - 0s 368us/step - loss: 0.2462 - acc: 0.9247 - val_loss: 0.4194 - val_acc: 0.8000\n",
            "Epoch 14/20\n",
            "810/810 [==============================] - 0s 369us/step - loss: 0.2078 - acc: 0.9506 - val_loss: 0.3516 - val_acc: 0.8556\n",
            "Epoch 15/20\n",
            "810/810 [==============================] - 0s 364us/step - loss: 0.1977 - acc: 0.9494 - val_loss: 0.3352 - val_acc: 0.8333\n",
            "Epoch 16/20\n",
            "810/810 [==============================] - 0s 367us/step - loss: 0.1812 - acc: 0.9432 - val_loss: 0.3408 - val_acc: 0.8889\n",
            "Epoch 17/20\n",
            "810/810 [==============================] - 0s 357us/step - loss: 0.1639 - acc: 0.9519 - val_loss: 0.3297 - val_acc: 0.8556\n",
            "Epoch 18/20\n",
            "810/810 [==============================] - 0s 367us/step - loss: 0.1545 - acc: 0.9617 - val_loss: 0.2914 - val_acc: 0.8444\n",
            "Epoch 19/20\n",
            "810/810 [==============================] - 0s 382us/step - loss: 0.1513 - acc: 0.9593 - val_loss: 0.2944 - val_acc: 0.8778\n",
            "Epoch 20/20\n",
            "810/810 [==============================] - 0s 380us/step - loss: 0.1266 - acc: 0.9778 - val_loss: 0.3376 - val_acc: 0.8222\n"
          ],
          "name": "stdout"
        }
      ]
    },
    {
      "cell_type": "code",
      "metadata": {
        "id": "ZzWvX1e6ukjn",
        "colab_type": "code",
        "outputId": "28f79d7a-f8ff-40eb-b749-535a4fe5cfdb",
        "colab": {
          "base_uri": "https://localhost:8080/",
          "height": 410
        }
      },
      "source": [
        "h3 = model.fit(np.array(X_train), np.array(y_train), epochs=10, validation_data=(np.array(X_valid), np.array(y_valid)))"
      ],
      "execution_count": 0,
      "outputs": [
        {
          "output_type": "stream",
          "text": [
            "Train on 810 samples, validate on 90 samples\n",
            "Epoch 1/10\n",
            "810/810 [==============================] - 0s 426us/step - loss: 0.1304 - acc: 0.9617 - val_loss: 0.2697 - val_acc: 0.9000\n",
            "Epoch 2/10\n",
            "810/810 [==============================] - 0s 388us/step - loss: 0.1021 - acc: 0.9802 - val_loss: 0.2655 - val_acc: 0.9111\n",
            "Epoch 3/10\n",
            "810/810 [==============================] - 0s 389us/step - loss: 0.1158 - acc: 0.9728 - val_loss: 0.2876 - val_acc: 0.9000\n",
            "Epoch 4/10\n",
            "810/810 [==============================] - 0s 396us/step - loss: 0.0862 - acc: 0.9914 - val_loss: 0.3148 - val_acc: 0.8444\n",
            "Epoch 5/10\n",
            "810/810 [==============================] - 0s 373us/step - loss: 0.0796 - acc: 0.9852 - val_loss: 0.2920 - val_acc: 0.8778\n",
            "Epoch 6/10\n",
            "810/810 [==============================] - 0s 373us/step - loss: 0.0761 - acc: 0.9901 - val_loss: 0.2680 - val_acc: 0.9111\n",
            "Epoch 7/10\n",
            "810/810 [==============================] - 0s 369us/step - loss: 0.0817 - acc: 0.9741 - val_loss: 0.2459 - val_acc: 0.8889\n",
            "Epoch 8/10\n",
            "810/810 [==============================] - 0s 379us/step - loss: 0.0617 - acc: 0.9938 - val_loss: 0.2662 - val_acc: 0.9000\n",
            "Epoch 9/10\n",
            "810/810 [==============================] - 0s 371us/step - loss: 0.0604 - acc: 0.9914 - val_loss: 0.2382 - val_acc: 0.9000\n",
            "Epoch 10/10\n",
            "810/810 [==============================] - 0s 366us/step - loss: 0.0513 - acc: 0.9975 - val_loss: 0.2469 - val_acc: 0.8889\n"
          ],
          "name": "stdout"
        }
      ]
    },
    {
      "cell_type": "code",
      "metadata": {
        "id": "RJx2oH-IupU3",
        "colab_type": "code",
        "outputId": "f36336b6-73d2-46ab-c46e-16dd1cf151de",
        "colab": {
          "base_uri": "https://localhost:8080/",
          "height": 73
        }
      },
      "source": [
        "test_loss, test_acc = model.evaluate(np.array(X_test), np.array(y_test))\n",
        "\n",
        "print('Test loss:', test_loss)\n",
        "print('Test accuracy:', test_acc)"
      ],
      "execution_count": 0,
      "outputs": [
        {
          "output_type": "stream",
          "text": [
            "100/100 [==============================] - 0s 298us/step\n",
            "Test loss: 0.502575997710228\n",
            "Test accuracy: 0.8\n"
          ],
          "name": "stdout"
        }
      ]
    }
  ]
}